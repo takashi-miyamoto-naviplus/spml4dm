{
 "cells": [
  {
   "cell_type": "markdown",
   "metadata": {},
   "source": [
    "# Chapter 2: Two-Sided Tests: Introduction\n",
    "## 2.1 Two-Sided Tests for Comparing Two Treatments with Normal Response of Known Variance"
   ]
  },
  {
   "cell_type": "markdown",
   "metadata": {},
   "source": [
    "色々な復習。\n",
    "\n",
    "平均$\\theta$, 分散$1$の正規分布に従う確率変数$Z$の分布に対して、帰無仮説$H_0: \\theta=0$ を考え、ある定数$c$について、$|Z|>c$ならば帰無仮説$H_0$を棄却することにする（両側検定を考える）。\n",
    "\n",
    "第1種の誤り：実は$\\theta=0$であるのに、$H_0$を棄却してしまう確率$\\alpha$\n",
    "$$\\alpha=\\text{Pr}_{\\theta=0}\\{|Z|>c\\}.$$\n",
    "\n",
    "第2種の誤り：$\\theta\\neq 0$であるのに、誤って$H_0$を採択してしまう（$H_0$を棄却し損ねる）確率$\\beta$。$1-\\beta$を検出力という。\n",
    "$$\\text{Pr}_{\\theta=\\delta}\\{|Z|>c\\} = \\text{Pr}_{\\theta=-\\delta}\\{|Z|>c\\} = 1-\\beta.$$\n",
    "上式は\n",
    "$$\\text{Pr}_{\\theta=\\delta}\\{Z>c\\} = \\text{Pr}_{\\theta=-\\delta}\\{Z<-c\\} = 1-\\beta.$$\n",
    "と近似しても差し支えない(とする)。"
   ]
  },
  {
   "cell_type": "markdown",
   "metadata": {},
   "source": [
    "$\\alpha=0.05$ならば$c=1.96$と選ぶ話のグラフ。"
   ]
  },
  {
   "cell_type": "code",
   "execution_count": 25,
   "metadata": {},
   "outputs": [
    {
     "data": {
      "image/png": "[encoded data removed]",
      "text/plain": [
       "<Figure size 432x288 with 1 Axes>"
      ]
     },
     "metadata": {
      "needs_background": "light"
     },
     "output_type": "display_data"
    },
    {
     "name": "stdout",
     "output_type": "stream",
     "text": [
      "alpha=0.0476 if c=1.96\n"
     ]
    }
   ],
   "source": [
    "%matplotlib inline\n",
    "import numpy as np\n",
    "import matplotlib.pyplot as plt\n",
    "\n",
    "zs = np.random.normal(size=10000)\n",
    "plt.hist(zs, bins=100)\n",
    "plt.show()\n",
    "\n",
    "print(\"alpha={} if c=1.96\".format(len([z for z in zs if abs(z)>1.96])/len(zs)))"
   ]
  },
  {
   "cell_type": "markdown",
   "metadata": {},
   "source": [
    "$\\delta$と$\\beta$の関係。"
   ]
  },
  {
   "cell_type": "code",
   "execution_count": 24,
   "metadata": {},
   "outputs": [
    {
     "data": {
      "image/png": "[encoded data removed]",
      "text/plain": [
       "<Figure size 432x288 with 1 Axes>"
      ]
     },
     "metadata": {
      "needs_background": "light"
     },
     "output_type": "display_data"
    },
    {
     "name": "stdout",
     "output_type": "stream",
     "text": [
      "delta=2.8000000000000003 for beta=0.2113\n"
     ]
    }
   ],
   "source": [
    "deltas = np.linspace(0,10,101)\n",
    "betas = []\n",
    "for delta in deltas:\n",
    "    zs = np.random.normal(loc=delta, size=10000)\n",
    "    beta = len([z for z in zs if z<=1.96])/len(zs)\n",
    "    betas.append(beta)\n",
    "plt.plot(deltas, betas, 'o-')\n",
    "plt.xlabel('delta')\n",
    "plt.ylabel('beta')\n",
    "plt.show()\n",
    "\n",
    "d,b=sorted([t for t in zip(deltas,betas)], key=lambda t: abs(t[1]-0.2))[0]\n",
    "print(\"delta={} for beta={}\".format(d,b))\n"
   ]
  },
  {
   "cell_type": "markdown",
   "metadata": {},
   "source": [
    "$\\beta=0.2$とするのが標準的とすると、$\\delta=2.8$程度。つまり$\\theta=\\delta\\neq 0$であるが、$\\delta$がかなり大きくないと誤って$H_0$を採択してしまう。"
   ]
  },
  {
   "cell_type": "markdown",
   "metadata": {},
   "source": [
    "## 2.2 A Fixed Sample Test\n",
    "\n",
    "$X_{Ai} \\sim \\mathcal{N}(\\mu_A, \\sigma^2), \\; X_{Bi}\\sim\\mathcal{N}(\\mu_B,\\sigma^2)$ という二つの分布から取られたサンプル$\\{X_{Ai}\\}, \\{X_{Bi}\\}$に対して、帰無仮説$H_0: \\mu_A=\\mu_B$ を棄却することを考える（両側検定）。\n",
    "\n",
    "\\begin{align*}\n",
    "Z &= \\frac1{\\sqrt{2n\\sigma^2}}\\left(\\sum_{i=1}^n X_{Ai}-\\sum_{i=1}^n X_{Bi}\\right)\\\\\n",
    "&\\sim \\mathcal{N}\\left((\\mu_A-\\mu_B)\\sqrt{\\frac{n}{2\\sigma^2}}, 1\\right)\n",
    "\\end{align*}\n",
    "\n",
    "$|Z|>\\Phi^{-1}(1-\\frac\\alpha2)$ であれば帰無仮説$H_0$を棄却する。\n",
    "\n",
    "検出力については\n",
    "$$\\text{Pr}\\{|Z|>\\Phi^{-1}(1-\\frac\\alpha2)\\}=1-\\beta$$\n",
    "ただし、$Z\\sim\\mathcal{N}(\\pm \\delta\\sqrt{n/(2\\sigma^2)}, 1), \\; \\delta=\\mu_A-\\mu_B.$\n",
    "\n",
    "ここから、必要なサンプルサイズは\n",
    "$$n_f(\\alpha,\\beta,\\delta,\\sigma^2) = \\left(\\Phi^{-1}(1-\\frac\\alpha2)+\\Phi(1-\\beta)\\right)^2\\frac{2\\sigma^2}{\\delta^2}.$$\n",
    "\n",
    "$\\alpha=0.05, \\beta=0.1, \\delta=1, \\sigma^2=4$ とすると$n_f = 84.1$\n",
    "そして\n",
    "$$\\left|\\sum_{i=1}^{85}X_{Ai}-\\sum_{i=1}^{85}X_{Bi}\\right|\\geq 1.96\\sqrt{85\\times2\\times4}=51.1$$\n",
    "ならば$H_0$を棄却する。"
   ]
  },
  {
   "cell_type": "markdown",
   "metadata": {},
   "source": [
    "$\\alpha=0.05$になってる確認。($\\delta=0$で$H_0$が棄却される確率が$0.05$程度)"
   ]
  },
  {
   "cell_type": "code",
   "execution_count": 23,
   "metadata": {},
   "outputs": [
    {
     "name": "stdout",
     "output_type": "stream",
     "text": [
      "H0=9519, H1=481, alpha=0.0481\n"
     ]
    },
    {
     "data": {
      "image/png": "[encoded data removed]",
      "text/plain": [
       "<Figure size 432x288 with 1 Axes>"
      ]
     },
     "metadata": {
      "needs_background": "light"
     },
     "output_type": "display_data"
    }
   ],
   "source": [
    "nH0, nH1=0, 0\n",
    "diffs = []\n",
    "for trial in range(0,10000):\n",
    "    xas = np.random.normal(loc=0.0, scale=2, size=85)\n",
    "    xbs = np.random.normal(loc=0.0, scale=2, size=85)\n",
    "    diff = sum(xas)-sum(xbs)\n",
    "    diffs.append(diff)\n",
    "    if abs(diff)>51.1:\n",
    "        nH1 += 1\n",
    "    else:\n",
    "        nH0 += 1\n",
    "print(\"H0={}, H1={}, alpha={}\".format(nH0, nH1, nH1/(nH0+nH1)))\n",
    "plt.hist(diffs, bins=100)\n",
    "plt.show()"
   ]
  },
  {
   "cell_type": "markdown",
   "metadata": {},
   "source": [
    "$\\beta=0.1$になっている確認。（$\\delta=1$で$H_0$が採択される確率が$0.1$程度）"
   ]
  },
  {
   "cell_type": "code",
   "execution_count": 22,
   "metadata": {},
   "outputs": [
    {
     "name": "stdout",
     "output_type": "stream",
     "text": [
      "H0=945, H1=9055, beta=0.0945\n"
     ]
    },
    {
     "data": {
      "image/png": "[encoded data removed]",
      "text/plain": [
       "<Figure size 432x288 with 1 Axes>"
      ]
     },
     "metadata": {
      "needs_background": "light"
     },
     "output_type": "display_data"
    }
   ],
   "source": [
    "nH0, nH1=0, 0\n",
    "diffs = []\n",
    "for trial in range(0,10000):\n",
    "    xas = np.random.normal(loc=0.0, scale=2, size=85)\n",
    "    xbs = np.random.normal(loc=1.0, scale=2, size=85)\n",
    "    diff = sum(xas)-sum(xbs)\n",
    "    diffs.append(diff)\n",
    "    if abs(diff)>51.1:\n",
    "        nH1 += 1\n",
    "    else:\n",
    "        nH0 += 1\n",
    "print(\"H0={}, H1={}, beta={}\".format(nH0, nH1, nH0/(nH0+nH1)))\n",
    "plt.hist(diffs, bins=100)\n",
    "plt.show()"
   ]
  },
  {
   "cell_type": "markdown",
   "metadata": {},
   "source": [
    "## 2.3 Group Sequential Tests\n",
    "\n",
    "ここまでに述べた普通の検定方法は、必要なサンプルサイズのデータを全部取ることが必要である（＝結果を途中で判断出来ない）。\n",
    "\n",
    "Group Sequential Test は、データの取得を何回 $k=1, \\cdots, K$ に分割して集計して$Z_k$を求め、\n",
    "\n",
    "* 途中の$k=1,\\cdots,K-1$の場合、$|Z_k|>c_k$となったら$H_0$を棄却、$|Z_k|<c_k$なら測定を継続\n",
    "* 最後の$k=K$の場合、$|Z_k|>c_k$となったら$H_0$を棄却、$|Z_k|<c_k$なら$H_0$を採択\n",
    "\n",
    "という方法である。\n",
    "\n",
    "## 2.4 Pocock's Test\n",
    "\n",
    "[Pocock(1977)](https://www.jstor.org/stable/2335684?seq=1#page_scan_tab_contents)\n",
    "\n",
    "2.2と同じ問題を考える。（$X_{Ai}\\sim\\mathcal{N}(\\mu_A,\\sigma^2), \\; X_{Bi}\\sim\\mathcal{N}(\\mu_B,\\sigma^2)$ に対して$H_0: \\mu_A=\\mu_B$）\n",
    "\n",
    "測定$k=1,\\cdots,K$毎に$m$個のサンプルをそれぞれ測定する。\n",
    "$$Z_k = \\frac1{\\sqrt{2mk\\sigma^2}}\\left(\\sum_{i=1}^{mk}X_{Ai}-\\sum_{i=1}^{mk}X_{Bi}\\right)$$\n",
    "とする。(つまり測定した$1,\\cdots,k$の値全部を使って$Z_k$は計算している)\n",
    "\n",
    "* 群$k=1,\\cdots,K-1$に対して\n",
    "    * もし $|Z_k|\\geq C_P(K,\\alpha)$ なら $H_0$を棄却して終了\n",
    "    * さもなければ、群$k+1$の測定\n",
    "* 群$k=K$に対して\n",
    "    * もし $|Z_k|\\geq C_P(K,\\alpha)$ なら $H_0$を棄却して終了\n",
    "    * さもなければ、$H_0$を採択して停止\n"
   ]
  },
  {
   "cell_type": "markdown",
   "metadata": {},
   "source": [
    "### 2.4.3 An Example\n",
    "\n",
    "Pocock's Test の例。\n",
    "$\\alpha=0.05, \\; 1-\\beta=0.9, \\; \\delta=1, \\; \\sigma^2=4$ という同じ条件で実施する。$K=5$で実施する。\n",
    "\n",
    "サンプルサイズは Table 2.2 の表の補正$R_p(K,\\alpha,\\beta)$の値を適用して\n",
    "$$R_p(K, \\alpha, \\beta) n_f(\\alpha, \\beta, \\delta, \\sigma^2) = 1.207 \\times 84.1 = 101.5 \\;\\Longrightarrow\\; \\text{各測定は}101.5/5=21\\text{回}$$\n",
    "判定条件は、Table 2.1 の表の補正　$C_P(K,\\alpha)$を適用して\n",
    "$$\\left|\\sum_{i=1}^{21k}X_{Ai}-\\sum_{i=1}^{21k}X_{Bi}\\right| \\geq  C_P(K,\\alpha) \\sqrt{2mk\\sigma^2} = 2.413 \\sqrt{21k \\times 2 \\times 4} = 31.28\\sqrt{k}$$"
   ]
  },
  {
   "cell_type": "code",
   "execution_count": 39,
   "metadata": {},
   "outputs": [],
   "source": [
    "def pocock_test(delta):\n",
    "    K=5\n",
    "    H0, H1 = 0, 0\n",
    "    ks = []\n",
    "    for trial in range(10000):\n",
    "        xas = np.random.normal(loc=0.0, scale=2, size=21*K)\n",
    "        xbs = np.random.normal(loc=delta, scale=2, size=21*K)\n",
    "        for i in range(K):\n",
    "            k = i+1\n",
    "            diff = sum(xas[:21*k])-sum(xbs[:21*k])\n",
    "            if abs(diff)>(31.28*np.sqrt(k)):\n",
    "                H1 += 1\n",
    "                ks.append(k)\n",
    "                break\n",
    "            elif k==K:\n",
    "                H0 += 1\n",
    "                ks.append(k)\n",
    "                break\n",
    "            else:\n",
    "                pass\n",
    "    plt.hist(ks, bins=5, range=(1,5))\n",
    "    plt.show()\n",
    "    return (H0,H1)"
   ]
  },
  {
   "cell_type": "markdown",
   "metadata": {},
   "source": [
    "$\\alpha=0.05$になってる確認。($\\delta=0$で$H_0$が棄却される確率が$0.05$程度)。\n",
    "\n",
    "シミュレーションしてみると、そもそも差がないので、$k=5$まで測定を繰り返す。"
   ]
  },
  {
   "cell_type": "code",
   "execution_count": 40,
   "metadata": {},
   "outputs": [
    {
     "data": {
      "image/png": "[encoded data removed]",
      "text/plain": [
       "<Figure size 432x288 with 1 Axes>"
      ]
     },
     "metadata": {
      "needs_background": "light"
     },
     "output_type": "display_data"
    },
    {
     "name": "stdout",
     "output_type": "stream",
     "text": [
      "alpha=0.0467\n"
     ]
    }
   ],
   "source": [
    "H0, H1 = pocock_test(0)\n",
    "print(\"alpha={}\".format(H1/(H0+H1)))"
   ]
  },
  {
   "cell_type": "markdown",
   "metadata": {},
   "source": [
    "$\\beta=0.1$になっている確認。（$\\delta=1$で$H_0$が採択される確率が$0.1$程度）\n",
    "\n",
    "差があるので5回全部試さずに途中で検定を中断する可能性が案外高いことがわかる。"
   ]
  },
  {
   "cell_type": "code",
   "execution_count": 41,
   "metadata": {},
   "outputs": [
    {
     "data": {
      "image/png": "[encoded data removed]",
      "text/plain": [
       "<Figure size 432x288 with 1 Axes>"
      ]
     },
     "metadata": {
      "needs_background": "light"
     },
     "output_type": "display_data"
    },
    {
     "name": "stdout",
     "output_type": "stream",
     "text": [
      "beta=0.091\n"
     ]
    }
   ],
   "source": [
    "H0, H1 = pocock_test(1)\n",
    "print(\"beta={}\".format(H0/(H0+H1)))"
   ]
  },
  {
   "cell_type": "code",
   "execution_count": null,
   "metadata": {},
   "outputs": [],
   "source": []
  }
 ],
 "metadata": {
  "kernelspec": {
   "display_name": "Python 3",
   "language": "python",
   "name": "python3"
  },
  "language_info": {
   "codemirror_mode": {
    "name": "ipython",
    "version": 3
   },
   "file_extension": ".py",
   "mimetype": "text/x-python",
   "name": "python",
   "nbconvert_exporter": "python",
   "pygments_lexer": "ipython3",
   "version": "3.7.3"
  }
 },
 "nbformat": 4,
 "nbformat_minor": 2
}
